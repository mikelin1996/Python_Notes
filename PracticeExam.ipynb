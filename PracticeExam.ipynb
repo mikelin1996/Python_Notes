{
 "cells": [
  {
   "cell_type": "markdown",
   "metadata": {},
   "source": [
    "## Practice final exam\n",
    "\n",
    "#### Instructions:\n",
    "- Complete the tasks listed in this notebook by answering questions and writing the code in the cell provided\n",
    "- Each task has a number of points associated with it, the complete exam assignment has 100 points\n",
    "- The grade is the total number of points earned\n",
    "- Started but not completed tasks, as well as task completed with errors earn partial points\n",
    "- You will have 120 minutes to compete the exam, this practice exam is calibrated for 30 minutes"
   ]
  },
  {
   "cell_type": "markdown",
   "metadata": {},
   "source": [
    "### question 1 (2 points)\n",
    "What are the necessary components of a class code in Python?"
   ]
  },
  {
   "cell_type": "markdown",
   "metadata": {},
   "source": [
    "Answer: "
   ]
  },
  {
   "cell_type": "code",
   "execution_count": 1,
   "metadata": {
    "collapsed": true
   },
   "outputs": [],
   "source": [
    "class exam_class():\n",
    "    \n",
    "    '''This is a class'''\n",
    "    \n",
    "    def __init__(self, a,b):\n",
    "        self.a=a\n",
    "        self.b=b"
   ]
  },
  {
   "cell_type": "markdown",
   "metadata": {},
   "source": [
    "### question 2 (2 points)\n",
    "Name 10 different optimization methods available in Python, and give a typical use case for each."
   ]
  },
  {
   "cell_type": "markdown",
   "metadata": {},
   "source": [
    "Answer:\n",
    "\n",
    " - Nelder-Mead, unconstrainted opt.\n",
    " - Powell, unconstrainted opt.\n",
    " - CG, unconstrainted opt.\n",
    " - Newton-CG, unconstrainted opt., know Jacobian\n",
    " - Brute force, lots of computation power, when desperate\n",
    " - Brent-Q, know the sign-changing interval, can express optimization function as a root-finding problem\n",
    " - Bisection, know the sign-changing interval, function behaves well\n",
    " - Newton-Raphson, provide Jacobian\n",
    " - Ridder, know the sign-changing interval, function behaves well\n",
    " - dogleg, know initial trust region radius"
   ]
  },
  {
   "cell_type": "markdown",
   "metadata": {},
   "source": [
    "### question 3 (2 points)\n",
    "Compute the stationary distribution of a Markov chain given by the following transition probability\n",
    "\n",
    "$$\n",
    "p=\n",
    "\\begin{pmatrix} \n",
    "0.1 & 0.1 & 0 & 0.8 \\\\\n",
    "0 & 0.4 & 0.4 & 0.2 \\\\\n",
    "0.9 & 0.1 & 0 & 0 \\\\\n",
    "0.3 & 0.2 & 0.3 & 0.2 \\\\\n",
    "\\end{pmatrix}\n",
    "$$\n"
   ]
  },
  {
   "cell_type": "code",
   "execution_count": 3,
   "metadata": {
    "collapsed": true
   },
   "outputs": [],
   "source": [
    "import numpy as np\n",
    "p = np.array([[0.1,0.1,0,0.8],[0,0.4,0.4,0.2],[0.9,0.1,0,0],[0.3,0.2,0.3,0.2]])"
   ]
  },
  {
   "cell_type": "code",
   "execution_count": 6,
   "metadata": {
    "collapsed": true
   },
   "outputs": [],
   "source": [
    "def solveStationary(A):\n",
    "    \"\"\" x = xA where x is the answer\n",
    "    x - xA = 0\n",
    "    x( I - A ) = 0 and sum(x) = 1\n",
    "    \"\"\"\n",
    "    n = A.shape[0]\n",
    "    a = np.eye( n ) - A\n",
    "    a = np.vstack( (a.T, np.ones( n )) )\n",
    "    b = np.matrix( [0] * n + [ 1 ] ).T\n",
    "    return np.linalg.lstsq( a, b )[0]"
   ]
  },
  {
   "cell_type": "code",
   "execution_count": 7,
   "metadata": {},
   "outputs": [
    {
     "data": {
      "text/plain": [
       "matrix([[ 0.29130435],\n",
       "        [ 0.19130435],\n",
       "        [ 0.17826087],\n",
       "        [ 0.33913043]])"
      ]
     },
     "execution_count": 7,
     "metadata": {},
     "output_type": "execute_result"
    }
   ],
   "source": [
    "solveStationary(p)"
   ]
  },
  {
   "cell_type": "markdown",
   "metadata": {},
   "source": [
    "### question 4 (2 points)\n",
    "What is the best approximation scheme on $[0,1]$ for the function shown below. Why?"
   ]
  },
  {
   "cell_type": "code",
   "execution_count": 50,
   "metadata": {},
   "outputs": [
    {
     "data": {
      "text/plain": [
       "[<matplotlib.lines.Line2D at 0x1194b8e10>]"
      ]
     },
     "execution_count": 50,
     "metadata": {},
     "output_type": "execute_result"
    },
    {
     "data": {
      "image/png": "[encoded data removed]",
      "text/plain": [
       "<Figure size 432x288 with 1 Axes>"
      ]
     },
     "metadata": {},
     "output_type": "display_data"
    }
   ],
   "source": [
    "import numpy as np\n",
    "import matplotlib.pyplot as plt\n",
    "\n",
    "def f(x):\n",
    "    res=(x-5/np.pi)**2-1\n",
    "    m=x>5/np.pi\n",
    "    res[m]=np.cos(5/x[m])\n",
    "    return res\n",
    "\n",
    "plt.plot(np.linspace(0,10,1000),f(np.linspace(0,10,1000)))"
   ]
  },
  {
   "cell_type": "markdown",
   "metadata": {},
   "source": [
    "Answer: A cubic spline works, because func is well behaved, smooth and does not have large kinks."
   ]
  },
  {
   "cell_type": "markdown",
   "metadata": {},
   "source": [
    "### question 5 (2 points)\n",
    "The code below is intended for repeated generation of the same sequence of random numbers, but does not work. Fix the bug."
   ]
  },
  {
   "cell_type": "code",
   "execution_count": 9,
   "metadata": {},
   "outputs": [
    {
     "name": "stdout",
     "output_type": "stream",
     "text": [
      "[ 4.30530135  6.7695947   7.05474089  8.3986615   6.96577845]\n",
      "[ 4.30530135  6.7695947   7.05474089  8.3986615   6.96577845]\n",
      "[ 4.30530135  6.7695947   7.05474089  8.3986615   6.96577845]\n",
      "[ 4.30530135  6.7695947   7.05474089  8.3986615   6.96577845]\n",
      "[ 4.30530135  6.7695947   7.05474089  8.3986615   6.96577845]\n",
      "[ 4.30530135  6.7695947   7.05474089  8.3986615   6.96577845]\n",
      "[ 4.30530135  6.7695947   7.05474089  8.3986615   6.96577845]\n",
      "[ 4.30530135  6.7695947   7.05474089  8.3986615   6.96577845]\n",
      "[ 4.30530135  6.7695947   7.05474089  8.3986615   6.96577845]\n",
      "[ 4.30530135  6.7695947   7.05474089  8.3986615   6.96577845]\n"
     ]
    }
   ],
   "source": [
    "import numpy as np\n",
    "for i in range(10):\n",
    "    # generate sequence of five numbers\n",
    "    np.random.seed(559443)\n",
    "    r = np.random.uniform(1,10,5)\n",
    "    print(r)"
   ]
  },
  {
   "cell_type": "markdown",
   "metadata": {},
   "source": [
    "### question 6 (5 points)\n",
    "\n",
    "Write a short code to output 10 smallest and 10 largest representable float64 numbers as a NumPy array."
   ]
  },
  {
   "cell_type": "code",
   "execution_count": 114,
   "metadata": {},
   "outputs": [
    {
     "name": "stdout",
     "output_type": "stream",
     "text": [
      "[  1.79769313e+308   1.79769313e+308   1.79769313e+308   1.79769313e+308\n",
      "   1.79769313e+308   1.79769313e+308   1.79769313e+308   1.79769313e+308\n",
      "   1.79769313e+308   1.79769313e+308]\n",
      "[ -1.79769313e+308  -1.79769313e+308  -1.79769313e+308  -1.79769313e+308\n",
      "  -1.79769313e+308  -1.79769313e+308  -1.79769313e+308  -1.79769313e+308\n",
      "  -1.79769313e+308  -1.79769313e+308]\n"
     ]
    }
   ],
   "source": [
    "maxf = np.finfo('float64').max\n",
    "minf = np.finfo('float64').min\n",
    "eps=np.finfo('float64').eps\n",
    "\n",
    "print(np.array([maxf - eps*i for i in range(10)]))\n",
    "print(np.array([minf + eps*i for i in range(10)]))\n"
   ]
  },
  {
   "cell_type": "markdown",
   "metadata": {},
   "source": [
    "### question 7 (10 points)\n",
    "\n",
    "Write a short code to run a Monte Carlo experiment for investigating the variability of linear regression estimates.  Perform the following steps:\n",
    "1. Simulate 100 $x_i$ values between 0 and 10 using uniform distribution\n",
    "2. Simulate 100 $\\varepsilon_i$ values using normal distribution with zero mean and standard deviation 0.5\n",
    "3. Compute 100 values $y_i = \\alpha + \\beta x_i + \\varepsilon_i$, where true parameters are $\\alpha=-2.5$ and $\\beta=1.2$\n",
    "4. Treat pairs $(x_i,y_i)$ as data and estimate the coefficients of linear regressions using the formula\n",
    "\n",
    "$$\n",
    "(\\hat{\\alpha},\\hat{\\beta})= \\big[ (X'X)^{-1}X'Y \\big]',\n",
    "$$\n",
    "\n",
    "where $X$ is the matrix composed of a column of ones and a column of stacked $x_i$, and $Y$ is the column vector of stacked $y_i$.\n",
    "5. Print and save the resulted estimates\n",
    "6. Repeat the same steps for 25 MC runs\n",
    "\n",
    "Present the result graphically. One plot should picture a typical estimation result (say, from first run of the steps above): it should show the dots representing 100 data points $x_i,y_i$, and the fitted line \n",
    "$y = \\hat{\\alpha} + \\hat{\\beta}x$.\n",
    "The other plot should picture together the 25 lines fitted in the MC exercise.\n",
    "\n",
    "Afterwards, print the MC average estimates of $\\alpha$ and $\\beta$ and compare to the true values.\n"
   ]
  },
  {
   "cell_type": "code",
   "execution_count": 96,
   "metadata": {},
   "outputs": [
    {
     "data": {
      "image/png": "[encoded data removed]",
      "text/plain": [
       "<matplotlib.figure.Figure at 0x185c458af28>"
      ]
     },
     "metadata": {},
     "output_type": "display_data"
    },
    {
     "name": "stdout",
     "output_type": "stream",
     "text": [
      "Regression formula:-2.55+1.22x\n"
     ]
    },
    {
     "data": {
      "image/png": "[encoded data removed]",
      "text/plain": [
       "<matplotlib.figure.Figure at 0x185c34f7b38>"
      ]
     },
     "metadata": {},
     "output_type": "display_data"
    },
    {
     "name": "stdout",
     "output_type": "stream",
     "text": [
      "MC Regression formula:-2.50+1.20x\n"
     ]
    }
   ],
   "source": [
    "import numpy.random as rd\n",
    "import matplotlib.pyplot as plt\n",
    "import random as random\n",
    "random.seed()\n",
    "def reg():\n",
    "    x = rd.uniform(0,10,100).reshape(100,1)\n",
    "    e = rd.normal(0,0.5,100).reshape(100,1)\n",
    "\n",
    "    α, β = -2.5, 1.2\n",
    "\n",
    "    y = α + β*x + e\n",
    "\n",
    "    o = np.full((100,1),1,dtype=int)\n",
    "    x_m = np.concatenate((o,x),axis=1)\n",
    "\n",
    "    coeff = (np.linalg.inv(x_m.T@x_m)@x_m.T@y)\n",
    "    pred_y = coeff[0] + coeff[1]*x\n",
    "    return x,y,pred_y,coeff\n",
    "\n",
    "f, ax = plt.subplots(1,1)\n",
    "x,y,pred_y,coeff = reg()\n",
    "ax.scatter(x,y)\n",
    "ax.plot(x, pred_y, color='red')\n",
    "ax.set_title('Baseline')\n",
    "plt.show()\n",
    "print('Regression formula:{:.2f}+{:.2f}x'.format(float(coeff[0]),float(coeff[1])))\n",
    "\n",
    "g, ax = plt.subplots(1,1,figsize=(10,10))\n",
    "a,b = [], []\n",
    "for i in range(26):\n",
    "    x,y,pred_y,coeff = reg()\n",
    "    ax.plot(x, pred_y)\n",
    "    a.append(float(coeff[0]))\n",
    "    b.append(float(coeff[1]))\n",
    "ax.set_title('Monte Carlo')\n",
    "plt.show()\n",
    "print('MC Regression formula:{:.2f}+{:.2f}x'.format(np.array(a).mean(),np.array(b).mean()))"
   ]
  },
  {
   "cell_type": "code",
   "execution_count": null,
   "metadata": {
    "collapsed": true
   },
   "outputs": [],
   "source": [
    "# small changes"
   ]
  }
 ],
 "metadata": {
  "kernelspec": {
   "display_name": "Python 3",
   "language": "python",
   "name": "python3"
  },
  "language_info": {
   "codemirror_mode": {
    "name": "ipython",
    "version": 3
   },
   "file_extension": ".py",
   "mimetype": "text/x-python",
   "name": "python",
   "nbconvert_exporter": "python",
   "pygments_lexer": "ipython3",
   "version": "3.6.1"
  }
 },
 "nbformat": 4,
 "nbformat_minor": 2
}
