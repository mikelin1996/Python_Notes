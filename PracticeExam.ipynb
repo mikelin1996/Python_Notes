{
 "cells": [
  {
   "cell_type": "markdown",
   "metadata": {},
   "source": [
    "## Practice final exam\n",
    "\n",
    "#### Instructions:\n",
    "- Complete the tasks listed in this notebook by answering questions and writing the code in the cell provided\n",
    "- Each task has a number of points associated with it, the complete exam assignment has 100 points\n",
    "- The grade is the total number of points earned\n",
    "- Started but not completed tasks, as well as task completed with errors earn partial points\n",
    "- You will have 120 minutes to compete the exam, this practice exam is calibrated for 30 minutes"
   ]
  },
  {
   "cell_type": "markdown",
   "metadata": {},
   "source": [
    "### question 1 (2 points)\n",
    "What are the necessary components of a class code in Python?"
   ]
  },
  {
   "cell_type": "markdown",
   "metadata": {},
   "source": [
    "Answer:1. write a Class 2.  __init__:the initialisation method of an object, which is called when the object is created.\n",
    "3. __repr__: to print something  4. self parameter "
   ]
  },
  {
   "cell_type": "markdown",
   "metadata": {},
   "source": [
    "### question 2 (2 points)\n",
    "Name 10 different optimization methods available in Python, and give a typical use case for each."
   ]
  },
  {
   "cell_type": "markdown",
   "metadata": {},
   "source": [
    "Answer:1. Zero finding: Newton's method: optimize.newton:require analytical gradient.\n",
    "2.optimize.minimize(method='Nelder-Mead'):Minimization of scalar function of one or more variables using the Nelder-Mead algorithm.\n",
    "3.optimize.minimize(method='Newton-CG'): require analytical gradient.\n",
    "4.optimize.brentq: Required knowledge of an interval  [a,b][a,b]  where  f(a)f(a)  and  f(b)f(b)  have different signs.\n",
    "5."
   ]
  },
  {
   "cell_type": "markdown",
   "metadata": {},
   "source": [
    "### question 3 (2 points)\n",
    "Compute the stationary distribution of a Markov chain given by the following transition probability\n",
    "\n",
    "$$\n",
    "p=\n",
    "\\begin{pmatrix} \n",
    "0.1 & 0.1 & 0 & 0.8 \\\\\n",
    "0 & 0.4 & 0.4 & 0.2 \\\\\n",
    "0.9 & 0.1 & 0 & 0 \\\\\n",
    "0.3 & 0.2 & 0.3 & 0.2 \\\\\n",
    "\\end{pmatrix}\n",
    "$$\n"
   ]
  },
  {
   "cell_type": "code",
   "execution_count": 49,
   "metadata": {
    "collapsed": true
   },
   "outputs": [],
   "source": [
    "# write your code here\n",
    "import quantecon as qe\n",
    "P = [[0.1, 0.1,0,0.8], [0, 0.4,0.4,0.4],[0.9,0.1,0,0],[0.3,0.2,0.3,0.2]]\n",
    "mc = qe.MarkovChain(P)\n",
    "mc.stationary_distributions  # Show all stationary distributions"
   ]
  },
  {
   "cell_type": "markdown",
   "metadata": {},
   "source": [
    "### question 4 (2 points)\n",
    "What is the best approximation scheme on $[0,1]$ for the function shown below. Why?"
   ]
  },
  {
   "cell_type": "code",
   "execution_count": 50,
   "metadata": {},
   "outputs": [
    {
     "data": {
      "text/plain": [
       "[<matplotlib.lines.Line2D at 0x1194b8e10>]"
      ]
     },
     "execution_count": 50,
     "metadata": {},
     "output_type": "execute_result"
    },
    {
     "data": {
      "image/png": "[encoded data removed]",
      "text/plain": [
       "<Figure size 432x288 with 1 Axes>"
      ]
     },
     "metadata": {},
     "output_type": "display_data"
    }
   ],
   "source": [
    "import numpy as np\n",
    "import matplotlib.pyplot as plt\n",
    "\n",
    "def f(x):\n",
    "    res=(x-5/np.pi)**2-1\n",
    "    m=x>5/np.pi\n",
    "    res[m]=np.cos(5/x[m])\n",
    "    return res\n",
    "\n",
    "plt.plot(np.linspace(0,10,1000),f(np.linspace(0,10,1000)))"
   ]
  },
  {
   "cell_type": "markdown",
   "metadata": {},
   "source": [
    "Answer:"
   ]
  },
  {
   "cell_type": "markdown",
   "metadata": {},
   "source": [
    "### question 5 (2 points)\n",
    "The code below is intended for repeated generation of the same sequence of random numbers, but does not work. Fix the bug."
   ]
  },
  {
   "cell_type": "code",
   "execution_count": 70,
   "metadata": {
    "collapsed": true
   },
   "outputs": [],
   "source": [
    "import numpy as np\n",
    "import random"
   ]
  },
  {
   "cell_type": "code",
   "execution_count": 88,
   "metadata": {
    "scrolled": true
   },
   "outputs": [
    {
     "name": "stdout",
     "output_type": "stream",
     "text": [
      "[ 2.24066793  7.54420472  6.32210096  3.87793745  5.31908488]\n",
      "[ 6.01855894  1.36413862  3.91217886  5.91696168  7.55742633]\n",
      "[ 6.8538599   1.7511659   3.74298348  4.38695863  5.35110457]\n",
      "[ 8.8006562   2.17838339  2.08978428  3.57363277  6.98497186]\n",
      "[ 1.2374435   3.45279636  7.44034724  1.30192799  2.21245858]\n",
      "[ 8.13886946  8.26893129  5.29489912  6.34250583  5.21468839]\n",
      "[ 5.17385742  7.3976408   3.41205808  7.39825322  4.50238999]\n",
      "[ 6.65596212  5.31653958  9.95921658  5.62904446  8.29270371]\n",
      "[ 2.77475852  8.75093631  1.79625301  5.25179253  8.9394888 ]\n",
      "[ 3.05424199  3.16936957  7.60216724  2.70950818  9.03036799]\n"
     ]
    }
   ],
   "source": [
    "import numpy as np\n",
    "import random\n",
    "random.seed(1)\n",
    "def samenumber():\n",
    "    for i in range(10):\n",
    "        # generate sequence of five numbers\n",
    "        r = np.random.uniform(1,10,5)\n",
    "        print(r)\n",
    "random.seed(1)\n",
    "\n",
    "samenumber()"
   ]
  },
  {
   "cell_type": "markdown",
   "metadata": {},
   "source": [
    "### question 6 (5 points)\n",
    "\n",
    "Write a short code to output 10 smallest and 10 largest representable float64 numbers as a NumPy array."
   ]
  },
  {
   "cell_type": "code",
   "execution_count": 99,
   "metadata": {},
   "outputs": [
    {
     "name": "stdout",
     "output_type": "stream",
     "text": [
      "Original array:\n",
      "[  1.   2.   3.   5.   7.  13.  34.  56.  78.  23.  45.  67.  23.  12.  34.\n",
      "  56.   1.]\n",
      "[  1.   1.   2.   3.   5.   7.  12.  13.  23.  23.]\n"
     ]
    }
   ],
   "source": [
    "# write your code here\n",
    "x = np.float64(1.0)\n",
    "a = np.array([ 1.,  2.,  3.], dtype=np.float64)\n",
    "import numpy as np\n",
    "x = np.array([ 1.,  2.,  3.,5.,7.,13.,34.,56.,78.,23.,45.,67.,23.,12.,34.,56.,1.], dtype=np.float64)\n",
    "print(\"Original array:\")\n",
    "print(x)\n",
    "np.random.shuffle(x)\n",
    "n = 10\n",
    "print (x[np.argsort(x)[:n]])"
   ]
  },
  {
   "cell_type": "markdown",
   "metadata": {},
   "source": [
    "### question 7 (10 points)\n",
    "\n",
    "Write a short code to run a Monte Carlo experiment for investigating the variability of linear regression estimates.  Perform the following steps:\n",
    "1. Simulate 100 $x_i$ values between 0 and 10 using uniform distribution\n",
    "2. Simulate 100 $\\varepsilon_i$ values using normal distribution with zero mean and standard deviation 0.5\n",
    "3. Compute 100 values $y_i = \\alpha + \\beta x_i + \\varepsilon_i$, where true parameters are $\\alpha=-2.5$ and $\\beta=1.2$\n",
    "4. Treat pairs $(x_i,y_i)$ as data and estimate the coefficients of linear regressions using the formula\n",
    "\n",
    "$$\n",
    "(\\hat{\\alpha},\\hat{\\beta})= \\big[ (X'X)^{-1}X'Y \\big]',\n",
    "$$\n",
    "\n",
    "where $X$ is the matrix composed of a column of ones and a column of stacked $x_i$, and $Y$ is the column vector of stacked $y_i$.\n",
    "5. Print and save the resulted estimates\n",
    "6. Repeat the same steps for 25 MC runs\n",
    "\n",
    "Present the result graphically. One plot should picture a typical estimation result (say, from first run of the steps above): it should show the dots representing 100 data points $x_i,y_i$, and the fitted line \n",
    "$y = \\hat{\\alpha} + \\hat{\\beta}x$.\n",
    "The other plot should picture together the 25 lines fitted in the MC exercise.\n",
    "\n",
    "Afterwards, print the MC average estimates of $\\alpha$ and $\\beta$ and compare to the true values.\n"
   ]
  },
  {
   "cell_type": "code",
   "execution_count": 207,
   "metadata": {
    "scrolled": true
   },
   "outputs": [
    {
     "name": "stdout",
     "output_type": "stream",
     "text": [
      "[-1.30554099  4.76044798  2.55944606  2.30285511  7.67146196  6.20179932\n",
      "  6.69428632 -1.44566314  0.51854214  1.97266522  4.07609623 -2.09535841\n",
      "  4.99458824  3.75840359  1.09478992  4.45029269  9.37825166  0.67786351\n",
      "  4.85113694  8.29791438  7.59523058 -2.12475873 -1.68253721  7.27934033\n",
      "  3.65889731  4.92389573  8.78897051  0.27035125  7.95334345  8.0465258\n",
      " -0.91137506  0.04475434  8.69126896  0.44792715  0.10986628  2.59865684\n",
      "  7.81351539 -0.80784427  9.58422097  0.39842315  5.67211778  4.00589604\n",
      "  2.40802398  4.7676886   6.91794304  6.65758943  0.35211889  9.19352879\n",
      "  3.78646757  1.38781001  0.79403241  7.68545872  4.07095181  6.36344815\n",
      "  4.3410614   0.80309914 -1.34610174  5.22845392  0.3173267   5.29673708\n",
      "  6.74883402  0.43588832  2.91293293  6.73800493  4.93135809 -0.45800046\n",
      " -2.01672664 -0.48072924 -0.29725561  1.7240234   6.91194991  2.2552479\n",
      "  4.27321896 -1.58270554  7.19306525  0.48005722  1.59393974  7.1688341\n",
      "  6.85489317  6.70257099  2.28847254  3.93401258  8.25226879  3.50100819\n",
      "  2.88443947  9.62854694 -1.82657195  3.90101269 -0.79524264  6.3708861\n",
      "  0.58847492 -0.34266586  2.12389167  2.55081536  7.40845344  0.57459704\n",
      "  4.88202446  3.25442572  1.04381475  6.74760214]\n"
     ]
    }
   ],
   "source": [
    "# write your code here\n",
    "import numpy as np\n",
    "xi = np.random.uniform(low=0.0, high=10.0, size=100)\n",
    "\n",
    "bi = np.random.normal(loc=0.0, scale=0.5, size=100)\n",
    "alpha = -2.5\n",
    "beta = 1.2\n",
    "def function(alpha,beta,xi,bi):\n",
    "    return alpha+beta*xi+bi\n",
    "y = function(alpha,beta,xi,bi)\n",
    "y_array = np.array(y)\n",
    "X = np.array([[1]*100,xi])\n",
    "X = np.asmatrix(X)\n",
    "X_transpose = X.transpose()\n",
    "# X_transpose = X.transpose()\n",
    "# X_transpose.shape\n",
    "\n",
    "XtimesX = X_transpose @ X\n",
    "inverse = np.linalg.inv(XtimesX)\n",
    "c = inverse @ X_transpose \n",
    "c.shape\n",
    "print(y_array)\n",
    "\n",
    "# XtimesX = X_transpose @ X\n",
    "# inverse = np.linalg.inv(XtimesX)\n",
    "# inverse.shape\n",
    "# d = inverse @ X_transpose \n",
    "# y.shape\n",
    "\n",
    "\n",
    "\n",
    "# c = np.matrix([[1,2,3],[3,4,5]])\n",
    "# c.transpose()\n",
    "# X = np.asmatrix(X)\n",
    "# X.reshape(100,2)\n",
    "# X2 = X.reshape(100,2)\n",
    "\n",
    "# X = X.reshape((100,2))\n"
   ]
  },
  {
   "cell_type": "code",
   "execution_count": null,
   "metadata": {
    "collapsed": true
   },
   "outputs": [],
   "source": []
  }
 ],
 "metadata": {
  "kernelspec": {
   "display_name": "Python 3",
   "language": "python",
   "name": "python3"
  },
  "language_info": {
   "codemirror_mode": {
    "name": "ipython",
    "version": 3
   },
   "file_extension": ".py",
   "mimetype": "text/x-python",
   "name": "python",
   "nbconvert_exporter": "python",
   "pygments_lexer": "ipython3",
   "version": "3.6.1"
  }
 },
 "nbformat": 4,
 "nbformat_minor": 2
}
