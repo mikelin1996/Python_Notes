{
 "cells": [
  {
   "cell_type": "code",
   "execution_count": 16,
   "metadata": {
    "scrolled": true
   },
   "outputs": [
    {
     "name": "stdout",
     "output_type": "stream",
     "text": [
      "[33.01492583 18.66966961  0.11447384 32.26304258 83.01864668 63.71744054\n",
      " 48.25344109 94.66387487 42.5699778  33.46914637]\n",
      "max=94.663875\n",
      "[(1, 2, 3), (1, 3, 2), (2, 1, 3), (2, 3, 1), (3, 1, 2), (3, 2, 1)]\n"
     ]
    }
   ],
   "source": [
    "# Lecture 2 Part 2\n",
    "# Find the Maximum \n",
    "import numpy as np\n",
    "n=10\n",
    "x=np.random.uniform(low=0.0, high=100.0, size=n)\n",
    "m=float('-inf')   \n",
    "for i in range(len(x)):\n",
    "    if m<x[i]:\n",
    "        m=x[i]\n",
    "print(x)        \n",
    "print(\"max=%f\"%m)\n",
    "\n",
    "# Devision of discrete good among given number of consumers\n",
    "\n",
    "\n",
    "# heap's algorithm:\n",
    "# Algorithm:The algorithm generates (n-1)! permutations of the first n-1 elements, adjoining the last \n",
    "# element to each of these. This will generate all of the permutations that end with the last element.\n",
    "# If n is odd, swap the first and last element and if n is even, then swap the ith element (i is the counter \n",
    "# starting from 0) and the last element and repeat the above algorithm till i is less than n.\n",
    "# In each iteration, the algorithm will produce all the permutations that end with the current last element.\n",
    "\n",
    "# Use of yield: \n",
    "\n",
    "# Simple code to do permutation:\n",
    "from itertools import permutations \n",
    "l = list(permutations(range(1,4))) \n",
    "print(l) \n",
    "# permutations('ABCD', 2)  N choose 2"
   ]
  },
  {
   "cell_type": "code",
   "execution_count": 12,
   "metadata": {},
   "outputs": [
    {
     "name": "stdout",
     "output_type": "stream",
     "text": [
      "ABC\n",
      "ACB\n",
      "BAC\n",
      "BCA\n",
      "CBA\n",
      "CAB\n"
     ]
    }
   ],
   "source": [
    "# Python program to print all permutations with \n",
    "# duplicates allowed \n",
    "\n",
    "def toString(List): \n",
    "    return ''.join(List) \n",
    "\n",
    "# Function to print permutations of string \n",
    "# This function takes three parameters: \n",
    "# 1. String \n",
    "# 2. Starting index of the string \n",
    "# 3. Ending index of the string. \n",
    "def permute(a, l, r): \n",
    "    if l==r: \n",
    "        print(toString(a)) \n",
    "    else: \n",
    "        for i in range(l,r+1): \n",
    "            a[l], a[i] = a[i], a[l] \n",
    "            permute(a, l+1, r) \n",
    "            a[l], a[i] = a[i], a[l] # backtrack \n",
    "\n",
    "# Driver program to test the above function \n",
    "string = \"ABC\"\n",
    "n = len(string) \n",
    "a = list(string) \n",
    "permute(a, 0, n-1) \n",
    "\n",
    "# This code is contributed by Bhavya Jain \n"
   ]
  },
  {
   "cell_type": "code",
   "execution_count": 2,
   "metadata": {},
   "outputs": [
    {
     "data": {
      "text/plain": [
       "<Figure size 640x480 with 1 Axes>"
      ]
     },
     "metadata": {},
     "output_type": "display_data"
    }
   ],
   "source": [
    "import random, numpy, math, copy, matplotlib.pyplot as plt\n",
    "cities = [random.sample(range(100), 2) for x in range(15)]\n",
    "tour = random.sample(range(15),15)\n",
    "for temperature in numpy.logspace(0,5,num=100000)[::-1]:\n",
    "    [i,j] = sorted(random.sample(range(15),2))\n",
    "newTour =  tour[:i] + tour[j:j+1] +  tour[i+1:j] + tour[i:i+1] + tour[j+1:]\n",
    "if math.exp( ( sum([ math.sqrt(sum([(cities[tour[(k+1) % 15]][d] - cities[tour[k % 15]][d])**2 for d in [0,1] ])) for k in [j,j-1,i,i-1]]) - sum([math.sqrt(sum([(cities[newTour[(k+1) % 15]][d] - cities[newTour[k % 15]][d])**2 for d in [0,1] ])) for k in [j,j-1,i,i-1]])) / temperature) > random.random():\n",
    "    tour = copy.copy(newTour)\n",
    "plt.plot([cities[tour[i % 15]][0] for i in range(16)], [cities[tour[i % 15]][1] for i in range(16)], 'xb-')\n",
    "plt.show()"
   ]
  },
  {
   "cell_type": "code",
   "execution_count": null,
   "metadata": {},
   "outputs": [],
   "source": [
    "# Week 4 lecture review\n",
    "\n",
    "# define a random matrix and generate market equilibrium\n",
    "np.linalg.solve() # solve matrix \n",
    "\n",
    "\n",
    "# Minimize a linear function\n",
    "scipy.optimize.linprog\n",
    "scipy.optimize.linprog(c, A_ub=None, b_ub=None, A_eq=None, b_eq=None, bounds=None, method='simplex', callback=None, options=None)[source]\n",
    "Minimize a linear objective function subject to linear equality and inequality constraints.\n",
    "\n",
    "Linear Programming is intended to solve the following problem form:\n",
    "\n",
    "Minimize: c^T * x\n",
    "\n",
    "Subject to: A_ub * x <= b_ub\n",
    "A_eq * x == b_eq\n",
    "\n",
    "# SciPy 2017 Tutorial on NumPy https://www.youtube.com/watch?v=lKcwuPnSHIQ&ab_channel=Enthought"
   ]
  },
  {
   "cell_type": "code",
   "execution_count": 3,
   "metadata": {
    "scrolled": true
   },
   "outputs": [
    {
     "data": {
      "image/png": "[encoded data removed]",
      "text/plain": [
       "<Figure size 432x288 with 1 Axes>"
      ]
     },
     "metadata": {},
     "output_type": "display_data"
    }
   ],
   "source": [
    "# Week 5 Lecture review Mathematical optimization with Python\n",
    "import numpy as np\n",
    "x = np.arange(-5, 5, 0.1)\n",
    "y = np.arange(-5, 5, 0.1)\n",
    "xx, yy = np.meshgrid(x, y, sparse=True)\n",
    "z = np.sin(xx**2 + yy**2) / (xx**2 + yy**2)\n",
    "h = plt.contourf(x,y,z)"
   ]
  }
 ],
 "metadata": {
  "kernelspec": {
   "display_name": "Python 3",
   "language": "python",
   "name": "python3"
  },
  "language_info": {
   "codemirror_mode": {
    "name": "ipython",
    "version": 3
   },
   "file_extension": ".py",
   "mimetype": "text/x-python",
   "name": "python",
   "nbconvert_exporter": "python",
   "pygments_lexer": "ipython3",
   "version": "3.6.6"
  }
 },
 "nbformat": 4,
 "nbformat_minor": 2
}
