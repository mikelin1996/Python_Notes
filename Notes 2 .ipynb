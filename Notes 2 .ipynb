{
 "cells": [
  {
   "cell_type": "code",
   "execution_count": 16,
   "metadata": {
    "scrolled": true
   },
   "outputs": [
    {
     "name": "stdout",
     "output_type": "stream",
     "text": [
      "[33.01492583 18.66966961  0.11447384 32.26304258 83.01864668 63.71744054\n",
      " 48.25344109 94.66387487 42.5699778  33.46914637]\n",
      "max=94.663875\n",
      "[(1, 2, 3), (1, 3, 2), (2, 1, 3), (2, 3, 1), (3, 1, 2), (3, 2, 1)]\n"
     ]
    }
   ],
   "source": [
    "# Lecture 2 Part 2\n",
    "# Find the Maximum \n",
    "import numpy as np\n",
    "n=10\n",
    "x=np.random.uniform(low=0.0, high=100.0, size=n)\n",
    "m=float('-inf')   \n",
    "for i in range(len(x)):\n",
    "    if m<x[i]:\n",
    "        m=x[i]\n",
    "print(x)        \n",
    "print(\"max=%f\"%m)\n",
    "\n",
    "# Devision of discrete good among given number of consumers\n",
    "\n",
    "\n",
    "# heap's algorithm:\n",
    "# Algorithm:The algorithm generates (n-1)! permutations of the first n-1 elements, adjoining the last \n",
    "# element to each of these. This will generate all of the permutations that end with the last element.\n",
    "# If n is odd, swap the first and last element and if n is even, then swap the ith element (i is the counter \n",
    "# starting from 0) and the last element and repeat the above algorithm till i is less than n.\n",
    "# In each iteration, the algorithm will produce all the permutations that end with the current last element.\n",
    "\n",
    "# Use of yield: \n",
    "\n",
    "# Simple code to do permutation:\n",
    "from itertools import permutations \n",
    "l = list(permutations(range(1,4))) \n",
    "print(l) \n",
    "# permutations('ABCD', 2)  N choose 2"
   ]
  },
  {
   "cell_type": "code",
   "execution_count": 12,
   "metadata": {},
   "outputs": [
    {
     "name": "stdout",
     "output_type": "stream",
     "text": [
      "ABC\n",
      "ACB\n",
      "BAC\n",
      "BCA\n",
      "CBA\n",
      "CAB\n"
     ]
    }
   ],
   "source": [
    "# Python program to print all permutations with \n",
    "# duplicates allowed \n",
    "\n",
    "def toString(List): \n",
    "    return ''.join(List) \n",
    "\n",
    "# Function to print permutations of string \n",
    "# This function takes three parameters: \n",
    "# 1. String \n",
    "# 2. Starting index of the string \n",
    "# 3. Ending index of the string. \n",
    "def permute(a, l, r): \n",
    "    if l==r: \n",
    "        print(toString(a)) \n",
    "    else: \n",
    "        for i in range(l,r+1): \n",
    "            a[l], a[i] = a[i], a[l] \n",
    "            permute(a, l+1, r) \n",
    "            a[l], a[i] = a[i], a[l] # backtrack \n",
    "\n",
    "# Driver program to test the above function \n",
    "string = \"ABC\"\n",
    "n = len(string) \n",
    "a = list(string) \n",
    "permute(a, 0, n-1) \n",
    "\n",
    "# This code is contributed by Bhavya Jain \n"
   ]
  },
  {
   "cell_type": "code",
   "execution_count": 2,
   "metadata": {},
   "outputs": [
    {
     "data": {
      "text/plain": [
       "<Figure size 640x480 with 1 Axes>"
      ]
     },
     "metadata": {},
     "output_type": "display_data"
    }
   ],
   "source": [
    "import random, numpy, math, copy, matplotlib.pyplot as plt\n",
    "cities = [random.sample(range(100), 2) for x in range(15)]\n",
    "tour = random.sample(range(15),15)\n",
    "for temperature in numpy.logspace(0,5,num=100000)[::-1]:\n",
    "    [i,j] = sorted(random.sample(range(15),2))\n",
    "newTour =  tour[:i] + tour[j:j+1] +  tour[i+1:j] + tour[i:i+1] + tour[j+1:]\n",
    "if math.exp( ( sum([ math.sqrt(sum([(cities[tour[(k+1) % 15]][d] - cities[tour[k % 15]][d])**2 for d in [0,1] ])) for k in [j,j-1,i,i-1]]) - sum([math.sqrt(sum([(cities[newTour[(k+1) % 15]][d] - cities[newTour[k % 15]][d])**2 for d in [0,1] ])) for k in [j,j-1,i,i-1]])) / temperature) > random.random():\n",
    "    tour = copy.copy(newTour)\n",
    "plt.plot([cities[tour[i % 15]][0] for i in range(16)], [cities[tour[i % 15]][1] for i in range(16)], 'xb-')\n",
    "plt.show()"
   ]
  },
  {
   "cell_type": "code",
   "execution_count": null,
   "metadata": {},
   "outputs": [],
   "source": [
    "# Week 4 lecture review\n",
    "\n",
    "# define a random matrix and generate market equilibrium\n",
    "np.linalg.solve() # solve matrix \n",
    "\n",
    "\n",
    "# Minimize a linear function\n",
    "scipy.optimize.linprog\n",
    "scipy.optimize.linprog(c, A_ub=None, b_ub=None, A_eq=None, b_eq=None, bounds=None, method='simplex', callback=None, options=None)[source]\n",
    "Minimize a linear objective function subject to linear equality and inequality constraints.\n",
    "\n",
    "Linear Programming is intended to solve the following problem form:\n",
    "\n",
    "Minimize: c^T * x\n",
    "\n",
    "Subject to: A_ub * x <= b_ub\n",
    "A_eq * x == b_eq\n",
    "\n",
    "# SciPy 2017 Tutorial on NumPy https://www.youtube.com/watch?v=lKcwuPnSHIQ&ab_channel=Enthought"
   ]
  },
  {
   "cell_type": "code",
   "execution_count": 1,
   "metadata": {
    "scrolled": false
   },
   "outputs": [
    {
     "ename": "NameError",
     "evalue": "name 'plt' is not defined",
     "output_type": "error",
     "traceback": [
      "\u001b[0;31m---------------------------------------------------------------------------\u001b[0m",
      "\u001b[0;31mNameError\u001b[0m                                 Traceback (most recent call last)",
      "\u001b[0;32m<ipython-input-1-62f13d14f45e>\u001b[0m in \u001b[0;36m<module>\u001b[0;34m()\u001b[0m\n\u001b[1;32m      5\u001b[0m \u001b[0mxx\u001b[0m\u001b[0;34m,\u001b[0m \u001b[0myy\u001b[0m \u001b[0;34m=\u001b[0m \u001b[0mnp\u001b[0m\u001b[0;34m.\u001b[0m\u001b[0mmeshgrid\u001b[0m\u001b[0;34m(\u001b[0m\u001b[0mx\u001b[0m\u001b[0;34m,\u001b[0m \u001b[0my\u001b[0m\u001b[0;34m,\u001b[0m \u001b[0msparse\u001b[0m\u001b[0;34m=\u001b[0m\u001b[0;32mTrue\u001b[0m\u001b[0;34m)\u001b[0m\u001b[0;34m\u001b[0m\u001b[0m\n\u001b[1;32m      6\u001b[0m \u001b[0mz\u001b[0m \u001b[0;34m=\u001b[0m \u001b[0mnp\u001b[0m\u001b[0;34m.\u001b[0m\u001b[0msin\u001b[0m\u001b[0;34m(\u001b[0m\u001b[0mxx\u001b[0m\u001b[0;34m**\u001b[0m\u001b[0;36m2\u001b[0m \u001b[0;34m+\u001b[0m \u001b[0myy\u001b[0m\u001b[0;34m**\u001b[0m\u001b[0;36m2\u001b[0m\u001b[0;34m)\u001b[0m \u001b[0;34m/\u001b[0m \u001b[0;34m(\u001b[0m\u001b[0mxx\u001b[0m\u001b[0;34m**\u001b[0m\u001b[0;36m2\u001b[0m \u001b[0;34m+\u001b[0m \u001b[0myy\u001b[0m\u001b[0;34m**\u001b[0m\u001b[0;36m2\u001b[0m\u001b[0;34m)\u001b[0m\u001b[0;34m\u001b[0m\u001b[0m\n\u001b[0;32m----> 7\u001b[0;31m \u001b[0mh\u001b[0m \u001b[0;34m=\u001b[0m \u001b[0mplt\u001b[0m\u001b[0;34m.\u001b[0m\u001b[0mcontourf\u001b[0m\u001b[0;34m(\u001b[0m\u001b[0mx\u001b[0m\u001b[0;34m,\u001b[0m\u001b[0my\u001b[0m\u001b[0;34m,\u001b[0m\u001b[0mz\u001b[0m\u001b[0;34m)\u001b[0m\u001b[0;34m\u001b[0m\u001b[0m\n\u001b[0m",
      "\u001b[0;31mNameError\u001b[0m: name 'plt' is not defined"
     ]
    }
   ],
   "source": [
    "# Week 5 Lecture review Mathematical optimization with Python\n",
    "import numpy as np\n",
    "x = np.arange(-5, 5, 0.1)\n",
    "y = np.arange(-5, 5, 0.1)\n",
    "xx, yy = np.meshgrid(x, y, sparse=True)\n",
    "z = np.sin(xx**2 + yy**2) / (xx**2 + yy**2)\n",
    "h = plt.contourf(x,y,z)"
   ]
  },
  {
   "cell_type": "code",
   "execution_count": null,
   "metadata": {},
   "outputs": [],
   "source": [
    "# Week 7 Lecture Review Interpolation and integration\n",
    "\n",
    "# Spline interpolation and polynomial interpolation:\n",
    "# Difference: Spline interpolation uses low-degree polynomials in each of the intervals, \n",
    "# and chooses the polynomial pieces such that they fit smoothly together.\n",
    "# The resulting function is called a spline.\n",
    "\n",
    "# Generally, if we have n data points, there is exactly one polynomial of degree at most n−1 going through \n",
    "# all the data points. The interpolation error is proportional to the distance between the data points to the\n",
    "# power n. Furthermore, the interpolant is a polynomial and thus infinitely differentiable. So, we see that \n",
    "# polynomial interpolation overcomes most of the problems of linear interpolation.\n",
    "\n",
    "# However, polynomial interpolation also has some disadvantages. Calculating the interpolating polynomial\n",
    "# is computationally expensive (see computational complexity) compared to linear interpolation. "
   ]
  },
  {
   "cell_type": "code",
   "execution_count": 6,
   "metadata": {
    "scrolled": true
   },
   "outputs": [
    {
     "name": "stdout",
     "output_type": "stream",
     "text": [
      "[4.75319804 7.48292044 1.00102937 3.72099315 2.32080302]\n",
      "[1.83104735 2.6763419  4.11004654 4.57090727 5.84935061]\n",
      "[4.77275063 7.1669755  2.84007025 8.90305693 1.24648834]\n",
      "[7.03420759 4.75574322 6.02820846 2.26348245 2.7829134 ]\n",
      "[8.20670112 9.71435418 3.8208176  7.23090354 8.88750237]\n",
      "[9.05145997 1.7653979  1.35149305 2.52847378 8.90328253]\n",
      "[1.8851215  4.78996863 9.62100577 5.79848756 7.22689403]\n",
      "[3.83964068 7.17850835 8.51163105 1.1645945  7.75129883]\n",
      "[9.8997498  7.73349089 3.52399593 8.10351396 1.92903406]\n",
      "[5.03104174 9.17735953 3.64252734 3.58997805 2.17025715]\n"
     ]
    }
   ],
   "source": [
    "import numpy as np\n",
    "np.random.seed(1)\n",
    "for i in range(10):\n",
    "    # generate sequence of five numbers\n",
    "    r = np.random.uniform(1,10,5)\n",
    "    print(r)"
   ]
  },
  {
   "cell_type": "code",
   "execution_count": 6,
   "metadata": {},
   "outputs": [
    {
     "data": {
      "text/plain": [
       "array([0.59006745, 0.03611336, 0.37381919])"
      ]
     },
     "execution_count": 6,
     "metadata": {},
     "output_type": "execute_result"
    }
   ],
   "source": [
    "import random\n",
    "import numpy as np\n",
    "weights = np.random.random(3)\n",
    "# rebalance weights to sum to 1\n",
    "# a /= b : (new) a = (old) a / b\n",
    "weights /= np.sum(weights)\n",
    "weights\n"
   ]
  }
 ],
 "metadata": {
  "kernelspec": {
   "display_name": "Python 3",
   "language": "python",
   "name": "python3"
  },
  "language_info": {
   "codemirror_mode": {
    "name": "ipython",
    "version": 3
   },
   "file_extension": ".py",
   "mimetype": "text/x-python",
   "name": "python",
   "nbconvert_exporter": "python",
   "pygments_lexer": "ipython3",
   "version": "3.6.6"
  }
 },
 "nbformat": 4,
 "nbformat_minor": 2
}
