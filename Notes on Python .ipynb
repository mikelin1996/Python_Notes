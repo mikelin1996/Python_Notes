{
 "cells": [
  {
   "cell_type": "code",
   "execution_count": 1,
   "metadata": {
    "collapsed": true
   },
   "outputs": [],
   "source": [
    "# Mid term assignment review\n",
    "# 2.\n",
    "# use class to represent a utility function, budget constraint.\n",
    "# design the attributes of class, init repr methods and other methods.\n",
    "# plot_preferences ; how the parameters affect the plot.\n",
    "# plot_budget illustrate the budget of consumer\n",
    "# solve method \n",
    "# 3.\n",
    "# draw diagrams and investigate and describe how parameters of the preferences \n",
    "# affect the optimal choice.\n",
    "# consider characteristic extremal cases that would give an idea of the boundaires\n",
    "# for the set of solutions.\n",
    "# 4. \n",
    "# normal and inferior goods; change the number of the produced picture with some \n",
    "# input argument.\n",
    "# 5.\n",
    "# repeat the exercise for changing budget to illustrate the income effect in consumer choice.\n",
    "# 6.\n",
    "# Monte Carlo exercises "
   ]
  },
  {
   "cell_type": "code",
   "execution_count": 3,
   "metadata": {},
   "outputs": [
    {
     "name": "stdout",
     "output_type": "stream",
     "text": [
      "[0, 0, 0, 0, 0]\n"
     ]
    }
   ],
   "source": [
    "# Mid term assignment review\n",
    "# Tast 2 solutions review\n",
    "# Part 1\n",
    "# Learn: 1. @property 2. add and subtract by one-to-one\n",
    "# 3. check data type 4. check divisibility\n",
    "\n",
    "# the use of @property ?? still confusing\n",
    "#  quantities += [0,]*(self.nItems-len(quantities))   confused about the [0, ] * means\n",
    "#  add the quantities using list comprehension with one-to-one matching (zip)\n",
    "#q1=[x+y for x,y in zip(self.quantities, other.quantities)]  # zip( ) one-to-one matching\n",
    "# q1=[x-y for x,y in zip(self.quantities, other.quantities)]  Use this form of coding to subtract or add in a one-to-one matching.\n",
    "\n",
    "# check data type: if type() is ...int,array,.. :\n",
    "#\n",
    "# Part 2\n",
    "# brute-force search is used when the problem size is limited.\n",
    "# this method search all the possible candidates for the solution and\n",
    "# check whether each candidates satisfies the problem.\n",
    "\n",
    "# brute force algorithm: \n",
    "# xrange() is better than range()\n",
    "# nn = budget // 10+1\n",
    "# \n",
    "\n",
    "# Weekly assignment 3: Task 2\n",
    "# practice class creation.\n",
    "# isinstance() determine if they are the same type.\n",
    "# np.argsort() returns the indices that would sort an array\n",
    "# np.hstack() stack arrays in sequence horizontally.\n",
    "# scipy.interpolate.interp1d() to interpolate a 1-D function.\n",
    "\n",
    "\n",
    "# Weekly assignment 4\n",
    "# part 1\n",
    "# define functions\n",
    "# part 2: make contour plots\n",
    "# how to make a contour plot? See the change in a value \n",
    "# of a variable based on the change in another 2 independent variables.\n",
    "# # def contour_plot(fun,xlim=(0,100),ylim=(0,100),ngrid=500,levels=20,title=None,colorbar=True):\n",
    "#     '''Function to plot level curves of the supplied fun function of two variables'''\n",
    "#     # create gids for x and y\n",
    "#     xx = np.linspace(xlim[0],xlim[1],ngrid)\n",
    "#     yy = np.linspace(ylim[0],ylim[1],ngrid)\n",
    "#     # combine one-dimensional grids into mesh (two-dimensional grid)\n",
    "#     X,Y = np.meshgrid(xx, yy)\n",
    "#     # compute the function \n",
    "#     Z = fun(X,Y)\n",
    "#     # make a bigger figure\n",
    "#     fig, ax = plt.subplots(figsize=(10,8))\n",
    "#     # make plot\n",
    "#     cnt = plt.contour(X,Y,Z, vmin=Z.min(), vmax=Z.max(),levels=np.linspace(Z.min(),Z.max(),levels))\n",
    "#     # add title if asked for\n",
    "#     if title:\n",
    "#         plt.title(title)\n",
    "#     if colorbar:\n",
    "#         fig.colorbar(cnt)\n",
    "# test: you should see a familiar picture\n",
    "# F = lambda x, y: 2.575 - 2*np.cos(x)*np.cos(y+np.pi) - 0.575*np.cos(1.25*np.pi - 2*x) \n",
    "# contour_plot(F,xlim=(0,9),ylim=(0,9),title='test')\n",
    "# plt.show()\n",
    "\n",
    "# plot 2 lines on the same graph\n",
    "# q=np.linspace(0,100,200)\n",
    "# fig, ax = plt.subplots(figsize=(10,8))\n",
    "# plt.plot(q,m.cost1(q),label='Firm 1 cost')\n",
    "# plt.plot(q,m.cost2(q),label='Firm 2 cost')\n",
    "# plt.legend()\n",
    "\n",
    "# compute and plot best response functions\n",
    "# \n",
    "# ndim: Number of array dimensions.\n",
    "\n",
    "\n",
    "\n",
    "\n",
    "\n",
    "\n"
   ]
  },
  {
   "cell_type": "code",
   "execution_count": 2,
   "metadata": {},
   "outputs": [
    {
     "name": "stdout",
     "output_type": "stream",
     "text": [
      "[[1 2]\n",
      " [2 3]\n",
      " [3 4]]\n"
     ]
    },
    {
     "data": {
      "text/plain": [
       "2"
      ]
     },
     "execution_count": 2,
     "metadata": {},
     "output_type": "execute_result"
    }
   ],
   "source": [
    "# Weekly assignment 5 part 1  Week10-Week12\n",
    "\n",
    "# A bit confused about the Beta? what is meant by the last part of the equation?\n",
    "\n",
    "# np.arange()   Return evenly spaced values within a given interval. \n",
    "# Values are generated within the half-open interval [start, stop)\n",
    "\n",
    "# String representation of the model  %s : means string; %2f : means 2 digit ; \\n : start with the next line\n",
    "\n",
    "# things created in the __init__, do not need to use self.** again in other def in the class.\n",
    "import numpy as np\n",
    "# y = np.zeros((3, 3, 4))\n",
    "# print(y)\n",
    "\n",
    "# y.shape[1]\n",
    "\n",
    "data = [[1,2],[2,3],[3,4]]\n",
    "array = np.array(data)\n",
    "print(array)\n",
    "array.ndim\n"
   ]
  },
  {
   "cell_type": "code",
   "execution_count": 14,
   "metadata": {},
   "outputs": [
    {
     "name": "stdout",
     "output_type": "stream",
     "text": [
      "[1, 2, 0, 0, 0]\n"
     ]
    },
    {
     "data": {
      "text/plain": [
       "list"
      ]
     },
     "execution_count": 14,
     "metadata": {},
     "output_type": "execute_result"
    }
   ],
   "source": [
    "# Weekly assignment 1 part 3 Bisection method for solving equations\n",
    "\n",
    "# np.fabs: compute the absolute values\n",
    "# lambda x: \n",
    "a = [1,2]\n",
    "a += [0]*3\n",
    "print(a)\n",
    "type(a)"
   ]
  },
  {
   "cell_type": "code",
   "execution_count": 7,
   "metadata": {
    "collapsed": true
   },
   "outputs": [],
   "source": [
    "# Weekly assignment 2 part 1  Plotting\n",
    "# filename.plot(x=     , y=     , kind=     , figsize=(10,8)     , color= )\n",
    "\n",
    "# ways to describe data in tables:  mean() median() describe()\n",
    "\n",
    "# len() returns the number of items in an object, when the object is a string\n",
    "# the len() function returns the number of characters in the string.\n",
    "\n",
    "# sort_values()   to sort by the values along either axis.\n",
    "# ascending=False : sort from high to low.\n",
    "\n",
    "# control colors of each bar: color['aqua', 'black', 'white']\n",
    "\n"
   ]
  },
  {
   "cell_type": "code",
   "execution_count": 2,
   "metadata": {},
   "outputs": [
    {
     "name": "stdout",
     "output_type": "stream",
     "text": [
      "[0, 0]\n"
     ]
    }
   ],
   "source": [
    "# Weeky assignment 2 part 2 Class\n",
    "\n",
    "# trick to append 0 to the end of a list\n",
    "# a = [1,2]\n",
    "# a += [0,]*3 : append 3 zeros to a \n",
    "# a += [0,1,2]*3  : append 0,1,2 three times\n",
    "\n",
    "# math.floor()  round the number downward to the nearest interger\n",
    "# import math\n",
    "# quantities = [1,2,3.5,5]\n",
    "# quantities=[math.floor(x) for x in quantities]  \n",
    "# print(quantities)\n",
    "# for i in quantities:\n",
    "#     quantities = math.floor(i)\n",
    "q = [1,2,4]    \n",
    "q = [0]*2\n",
    "print(q)\n",
    "\n",
    "# Difference between Array and List !!!\n",
    "# The main difference is that Array can be devided but List cannot be divided.\n",
    "# Array: a = array([1,2,3,4,5])  List: b = [1,2,3,4,5]\n",
    "# It does take an extra step to use arrays because they have to be declared while \n",
    "# lists don't because they are part of Python's syntax, so lists are generally used more often between the two, \n",
    "# which works fine most of the time. However, if you're going to perform arithmetic functions to your lists, you should \n",
    "# really be using arrays instead. Additionally, arrays will store your data more compactly and efficiently, so if you're \n",
    "# storing a large amount of data, you may consider using arrays as well.\n",
    "\n",
    "\n",
    "# Brute-force Search:\n",
    "# While a brute-force search is simple to implement, and will always find a solution if it exists, \n",
    "# its cost is proportional to the number of candidate solutions – which in many practical problems \n",
    "# tends to grow very quickly as the size of the problem increases (combinatorial explosion)[1]. \n",
    "# Therefore, brute-force search is typically used when the problem size is limited, or when there \n",
    "# are problem-specific heuristics that can be used to reduce the set of candidate solutions to a \n",
    "# manageable size. The method is also used when the simplicity of implementation is more important \n",
    "# than speed.\n",
    "\n",
    "# enumerate()   enumerate(sequence, [start=0])   index and value."
   ]
  },
  {
   "cell_type": "code",
   "execution_count": 4,
   "metadata": {},
   "outputs": [
    {
     "name": "stdout",
     "output_type": "stream",
     "text": [
      "                            OLS Regression Results                            \n",
      "==============================================================================\n",
      "Dep. Variable:                      A   R-squared:                       0.579\n",
      "Model:                            OLS   Adj. R-squared:                  0.158\n",
      "Method:                 Least Squares   F-statistic:                     1.375\n",
      "Date:                Sat, 27 Oct 2018   Prob (F-statistic):              0.421\n",
      "Time:                        16:25:12   Log-Likelihood:                -18.178\n",
      "No. Observations:                   5   AIC:                             42.36\n",
      "Df Residuals:                       2   BIC:                             41.19\n",
      "Df Model:                           2                                         \n",
      "Covariance Type:            nonrobust                                         \n",
      "==============================================================================\n",
      "                 coef    std err          t      P>|t|      [0.025      0.975]\n",
      "------------------------------------------------------------------------------\n",
      "Intercept     14.9525     17.764      0.842      0.489     -61.481      91.386\n",
      "B              0.4012      0.650      0.617      0.600      -2.394       3.197\n",
      "C              0.0004      0.001      0.650      0.583      -0.002       0.003\n",
      "==============================================================================\n",
      "Omnibus:                          nan   Durbin-Watson:                   1.061\n",
      "Prob(Omnibus):                    nan   Jarque-Bera (JB):                0.498\n",
      "Skew:                          -0.123   Prob(JB):                        0.780\n",
      "Kurtosis:                       1.474   Cond. No.                     5.21e+04\n",
      "==============================================================================\n",
      "\n",
      "Warnings:\n",
      "[1] Standard Errors assume that the covariance matrix of the errors is correctly specified.\n",
      "[2] The condition number is large, 5.21e+04. This might indicate that there are\n",
      "strong multicollinearity or other numerical problems.\n"
     ]
    },
    {
     "name": "stderr",
     "output_type": "stream",
     "text": [
      "C:\\ProgramData\\Anaconda3\\lib\\site-packages\\statsmodels\\stats\\stattools.py:72: ValueWarning: omni_normtest is not valid with less than 8 observations; 5 samples were given.\n",
      "  \"samples were given.\" % int(n), ValueWarning)\n"
     ]
    }
   ],
   "source": [
    "# A example of doing regression in Python\n",
    "import pandas as pd\n",
    "import statsmodels.formula.api as sm\n",
    "df = pd.DataFrame({\"A\": [10,20,30,40,50], \"B\": [20, 30, 10, 40, 50], \"C\": [32, 234, 23, 23, 42523]})\n",
    "result = sm.ols(formula=\"A ~ B + C\", data=df).fit()\n",
    "# print result.params\n",
    "# Intercept    14.952480\n",
    "# B             0.401182\n",
    "# C             0.000352\n",
    "# dtype: float64\n",
    "print(result.summary())"
   ]
  },
  {
   "cell_type": "code",
   "execution_count": 9,
   "metadata": {},
   "outputs": [
    {
     "data": {
      "text/plain": [
       "False"
      ]
     },
     "execution_count": 9,
     "metadata": {},
     "output_type": "execute_result"
    }
   ],
   "source": [
    "# Lecture 1 Review: Introduction to Computational Economics\n",
    "# IEEE 754 standard\n",
    "# part 3 Floating point arithmetics\n",
    "1/10\n",
    "import math\n",
    "format(math.pi,'.12g') # give 12 significant digits\n",
    "format(math.pi,'.2f') # give 2 digits after the point\n",
    "repr(math.pi)\n",
    "0.1 +0.1 +0.1 ==3\n",
    "round() # 四舍五入\n",
    "\n",
    "# Eliminate the error or check the exact number\n",
    "from decimal import *\n",
    "getcontext().prec = 100 #set precision of decimal calculations\n",
    "#using floats\n",
    "interest1 = 0.04\n",
    "compounding = 365*24\n",
    "t=100 #years\n",
    "investment1 = 10e9 #one billion\n",
    "daily1 = 1 + interest1/compounding\n",
    "sum1 = investment1*(daily1**(compounding*t))\n",
    "#the same using precise decimal representation\n",
    "interest2 = Decimal(interest1)\n",
    "daily2 = 1 + interest2/compounding\n",
    "investment2 = Decimal(investment1)\n",
    "sum2 = investment2*(daily2**(compounding*t)) #using exact decimals\n",
    "diff=sum2-Decimal.from_float(sum1)\n",
    "format(diff, '.10f')\n",
    "\n",
    "# 浮点数表达方式， 这种表达方式利用科学计数法来表达实数，即用一个尾数（Mantissa ），\n",
    "# 一个基数（Base），一个指数（Exponent）以及一个表示正负的符号来表达实数"
   ]
  },
  {
   "cell_type": "code",
   "execution_count": 12,
   "metadata": {},
   "outputs": [
    {
     "name": "stdout",
     "output_type": "stream",
     "text": [
      "0\n"
     ]
    }
   ],
   "source": [
    "# Weekly Assignment 3 part 1  Matrix\n",
    "# int: integer 整数\n",
    "# Raise(TypeError('        '))\n",
    "# np.copy()  Return an array copy of the given object.\n",
    "\n",
    "# all() returns true if the iteration is true.\n",
    "\n",
    "\n",
    "# Linear regression Model\n",
    "np.linalg.inv() compute the inverse of a matrix\n",
    "X.T: Transpose of matrix X\n",
    "@ matrix multiplication\n",
    "1e-8  means zero\n",
    "\n",
    "# α:   \\alpha + Tab\n",
    "\n",
    "# Sympy calculation example\n",
    "https://github.com/sympy/sympy/wiki/Quick-examples"
   ]
  },
  {
   "cell_type": "code",
   "execution_count": 14,
   "metadata": {
    "scrolled": true
   },
   "outputs": [
    {
     "ename": "SyntaxError",
     "evalue": "unexpected character after line continuation character (<ipython-input-14-5a2d655ba95b>, line 1)",
     "output_type": "error",
     "traceback": [
      "\u001b[1;36m  File \u001b[1;32m\"<ipython-input-14-5a2d655ba95b>\"\u001b[1;36m, line \u001b[1;32m1\u001b[0m\n\u001b[1;33m    \\beta\u001b[0m\n\u001b[1;37m         ^\u001b[0m\n\u001b[1;31mSyntaxError\u001b[0m\u001b[1;31m:\u001b[0m unexpected character after line continuation character\n"
     ]
    }
   ],
   "source": [
    "# Weekly Assignment 3 part 2 Class\n",
    "# isinstance() chekcs if the (firstarguemnt) is an instance or subclass of classinfor class(second argument).\n",
    "# np.size: return s the length of this array\n",
    "# reshape: Gives a new shape to an array without changing its data.\n",
    "\n",
    "np.argsort() \n",
    "# Returns the indices that would sort an array.\n",
    ">>> x = np.array([3, 1, 2])\n",
    ">>> np.argsort(x)\n",
    "array([1, 2, 0])\n",
    "\n"
   ]
  }
 ],
 "metadata": {
  "kernelspec": {
   "display_name": "Python 3",
   "language": "python",
   "name": "python3"
  },
  "language_info": {
   "codemirror_mode": {
    "name": "ipython",
    "version": 3
   },
   "file_extension": ".py",
   "mimetype": "text/x-python",
   "name": "python",
   "nbconvert_exporter": "python",
   "pygments_lexer": "ipython3",
   "version": "3.6.1"
  }
 },
 "nbformat": 4,
 "nbformat_minor": 2
}
